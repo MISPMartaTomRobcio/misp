{
 "cells": [
  {
   "cell_type": "code",
   "execution_count": 1,
   "metadata": {
    "colab": {
     "base_uri": "https://localhost:8080/",
     "height": 130
    },
    "colab_type": "code",
    "id": "1QXq0ubiQEVA",
    "outputId": "63f7535c-4bd4-4b76-bba6-d72e2b28d86d"
   },
   "outputs": [
    {
     "ename": "ModuleNotFoundError",
     "evalue": "No module named 'google'",
     "output_type": "error",
     "traceback": [
      "\u001b[1;31m---------------------------------------------------------------------------\u001b[0m",
      "\u001b[1;31mModuleNotFoundError\u001b[0m                       Traceback (most recent call last)",
      "\u001b[1;32m<ipython-input-1-91874b305a32>\u001b[0m in \u001b[0;36m<module>\u001b[1;34m\u001b[0m\n\u001b[1;32m----> 1\u001b[1;33m \u001b[1;32mfrom\u001b[0m \u001b[0mgoogle\u001b[0m\u001b[1;33m.\u001b[0m\u001b[0mcolab\u001b[0m \u001b[1;32mimport\u001b[0m \u001b[0mdrive\u001b[0m\u001b[1;33m\u001b[0m\u001b[1;33m\u001b[0m\u001b[0m\n\u001b[0m\u001b[0;32m      2\u001b[0m \u001b[0mdrive\u001b[0m\u001b[1;33m.\u001b[0m\u001b[0mmount\u001b[0m\u001b[1;33m(\u001b[0m\u001b[1;34m'/content/drive/'\u001b[0m\u001b[1;33m)\u001b[0m\u001b[1;33m\u001b[0m\u001b[1;33m\u001b[0m\u001b[0m\n",
      "\u001b[1;31mModuleNotFoundError\u001b[0m: No module named 'google'"
     ]
    }
   ],
   "source": [
    "from google.colab import drive\n",
    "drive.mount('/content/drive/')"
   ]
  },
  {
   "cell_type": "code",
   "execution_count": null,
   "metadata": {
    "colab": {
     "base_uri": "https://localhost:8080/",
     "height": 277
    },
    "colab_type": "code",
    "id": "3v9n-ejctIlO",
    "outputId": "53392119-e737-4eda-fcaa-b2d745f63cef"
   },
   "outputs": [],
   "source": [
    "import pandas as pd\n",
    "from sklearn.preprocessing import Imputer\n",
    "from sklearn.linear_model import LinearRegression\n",
    "import numpy\n",
    "from sklearn.model_selection import train_test_split\n",
    "from sklearn.metrics import mean_squared_error\n",
    "from sklearn import preprocessing\n",
    "from sklearn.ensemble import RandomForestRegressor\n",
    "\n",
    "\n",
    "train = pd.read_csv('/content/drive/My Drive/train.csv', index_col= 'Id')\n",
    "train.reset_index(drop=True, inplace=True)\n",
    "print(train)"
   ]
  },
  {
   "cell_type": "code",
   "execution_count": null,
   "metadata": {
    "colab": {},
    "colab_type": "code",
    "id": "-Je4sq6o8ysl"
   },
   "outputs": [],
   "source": [
    "def preprocess_data(data):\n",
    "  numerical, categorical = [], []\n",
    "  for i in data.columns:\n",
    "      if data[i].dtype == 'object':\n",
    "          categorical.append(i)\n",
    "      else:\n",
    "          numerical.append(i)\n",
    "  \n",
    "  numerical.remove('MSSubClass')\n",
    "  categorical.append('MSSubClass')\n",
    "  train_num = data[numerical]\n",
    "\n",
    "  imputer = Imputer(missing_values='NaN' , strategy='median' , axis = 0)\n",
    "  imputer = imputer.fit(train_num)\n",
    "  train_num = imputer.transform(train_num)\n",
    "\n",
    "  return train_num"
   ]
  },
  {
   "cell_type": "code",
   "execution_count": null,
   "metadata": {
    "colab": {
     "base_uri": "https://localhost:8080/",
     "height": 74
    },
    "colab_type": "code",
    "id": "TNzhy-ErGu1Z",
    "outputId": "34282c98-b7f1-4aa0-d274-bd5b2fa3717e"
   },
   "outputs": [],
   "source": [
    "y_train = train[['SalePrice']]\n",
    "train.drop('SalePrice' , axis = 1 , inplace=True)\n",
    "\n",
    "X_train = preprocess_data(train)"
   ]
  },
  {
   "cell_type": "code",
   "execution_count": null,
   "metadata": {
    "colab": {
     "base_uri": "https://localhost:8080/",
     "height": 147
    },
    "colab_type": "code",
    "id": "bHjD4qR_io3k",
    "outputId": "3815b7ba-e157-46a2-f97f-ce2c4cedd277"
   },
   "outputs": [],
   "source": [
    "print(X_train)"
   ]
  },
  {
   "cell_type": "code",
   "execution_count": null,
   "metadata": {
    "colab": {},
    "colab_type": "code",
    "id": "MxVM-Bx3RAb2"
   },
   "outputs": [],
   "source": [
    "X_train , X_test , y_train , y_test=  train_test_split(X_train , y_train , test_size= 0.2 , random_state=123)"
   ]
  },
  {
   "cell_type": "code",
   "execution_count": null,
   "metadata": {
    "colab": {
     "base_uri": "https://localhost:8080/",
     "height": 111
    },
    "colab_type": "code",
    "id": "WppZrDSW7Pd2",
    "outputId": "0218fd40-dfad-4179-e74c-32d2e3e91486"
   },
   "outputs": [],
   "source": [
    "reg = RandomForestRegressor().fit(X_train, y_train)"
   ]
  },
  {
   "cell_type": "code",
   "execution_count": null,
   "metadata": {
    "colab": {
     "base_uri": "https://localhost:8080/",
     "height": 36
    },
    "colab_type": "code",
    "id": "1nneLxd1RGvY",
    "outputId": "6e0a63a0-3dcc-4b12-804a-fcf5b1e920bb"
   },
   "outputs": [],
   "source": [
    "y_pred = reg.predict(X_test)\n",
    "\n",
    "print(mean_squared_error(y_test, y_pred))"
   ]
  },
  {
   "cell_type": "code",
   "execution_count": null,
   "metadata": {
    "colab": {
     "base_uri": "https://localhost:8080/",
     "height": 91
    },
    "colab_type": "code",
    "id": "NEEWYHsqIYLg",
    "outputId": "5e0d3588-f0ba-4fcf-8c3c-d70d5b0e1d7e"
   },
   "outputs": [],
   "source": [
    "test = pd.read_csv('/content/drive/My Drive/test.csv', index_col= 'Id')\n",
    "test_labels = test.index\n",
    "test.reset_index(drop=True, inplace=True)\n",
    "\n",
    "# print(test)"
   ]
  },
  {
   "cell_type": "code",
   "execution_count": null,
   "metadata": {
    "colab": {
     "base_uri": "https://localhost:8080/",
     "height": 334
    },
    "colab_type": "code",
    "id": "5awgRf50Mjay",
    "outputId": "6accc80c-3e37-47b6-ef62-5910c329693f"
   },
   "outputs": [],
   "source": [
    "X = preprocess_data(test)\n",
    "y = reg.predict(X)\n",
    "\n",
    "result = numpy.vstack((test_labels, y)).T\n",
    "result = numpy.vstack(([[\"Id\", \"SalePrice\"]], result))\n",
    "df = pd.DataFrame(result)\n",
    "df.columns = df.iloc[0]\n",
    "df=df[1:]\n",
    "print(df)\n",
    "df.to_csv(\"results.csv\", index=False)"
   ]
  },
  {
   "cell_type": "code",
   "execution_count": null,
   "metadata": {
    "colab": {},
    "colab_type": "code",
    "id": "6i1UJ-k3Nu49"
   },
   "outputs": [],
   "source": []
  }
 ],
 "metadata": {
  "colab": {
   "name": "HousePrices.ipynb",
   "provenance": []
  },
  "kernelspec": {
   "display_name": "Python 3",
   "language": "python",
   "name": "python3"
  },
  "language_info": {
   "codemirror_mode": {
    "name": "ipython",
    "version": 3
   },
   "file_extension": ".py",
   "mimetype": "text/x-python",
   "name": "python",
   "nbconvert_exporter": "python",
   "pygments_lexer": "ipython3",
   "version": "3.7.4"
  }
 },
 "nbformat": 4,
 "nbformat_minor": 1
}
